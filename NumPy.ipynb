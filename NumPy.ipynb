{
  "cells": [
    {
      "cell_type": "markdown",
      "metadata": {
        "id": "moQlbf_O5PLB"
      },
      "source": [
        "# **1. Array Creation**"
      ]
    },
    {
      "cell_type": "markdown",
      "metadata": {
        "id": "H67RgBJ06WK9"
      },
      "source": [
        "**1. Create a 1D NumPy array with values from 10 to 20.**"
      ]
    },
    {
      "cell_type": "code",
      "execution_count": 1,
      "metadata": {
        "colab": {
          "base_uri": "https://localhost:8080/"
        },
        "id": "ngoDzHxz46_y",
        "outputId": "aff804b0-1d49-4a8e-caa1-4a3f40063ef0"
      },
      "outputs": [
        {
          "data": {
            "text/plain": [
              "array([10, 11, 12, 13, 14, 15, 16, 17, 18, 19])"
            ]
          },
          "execution_count": 1,
          "metadata": {},
          "output_type": "execute_result"
        }
      ],
      "source": [
        "import numpy as np\n",
        "a = np.arange(10,20)\n",
        "a"
      ]
    },
    {
      "cell_type": "markdown",
      "metadata": {
        "id": "F7lD6Ml56wog"
      },
      "source": [
        "**2. Generate a 3x3 array filled with random integers between 0 and 50.**"
      ]
    },
    {
      "cell_type": "code",
      "execution_count": 2,
      "metadata": {
        "colab": {
          "base_uri": "https://localhost:8080/"
        },
        "id": "IubMlu6761Pq",
        "outputId": "91733b62-40d1-4a7b-8c28-c3a1471479d6"
      },
      "outputs": [
        {
          "name": "stdout",
          "output_type": "stream",
          "text": [
            "Uniformly disrtibuted random numbers 3x3 array: \n",
            "\n",
            "[[0.90595201 0.51752616 0.56840306]\n",
            " [0.92150841 0.92962449 0.6503671 ]\n",
            " [0.54730579 0.97240753 0.94195171]] \n",
            "\n",
            "Standard / Normal disrtibuted random numbers 3x3 array: \n",
            "\n"
          ]
        },
        {
          "data": {
            "text/plain": [
              "array([[ 0.15161758,  0.82439549,  1.22514718],\n",
              "       [-0.31163555,  0.88070241,  1.1101473 ],\n",
              "       [ 0.32962003,  0.3777644 ,  0.07860223]])"
            ]
          },
          "execution_count": 2,
          "metadata": {},
          "output_type": "execute_result"
        }
      ],
      "source": [
        "b = np.random.rand(3,3)\n",
        "c = np.random.randn(3,3)\n",
        "print(\"Uniformly disrtibuted random numbers 3x3 array: \\n\")\n",
        "print(b,\"\\n\")\n",
        "print(\"Standard / Normal disrtibuted random numbers 3x3 array: \\n\")\n",
        "c"
      ]
    },
    {
      "cell_type": "markdown",
      "metadata": {
        "id": "srVSwNyE8o4f"
      },
      "source": [
        "**3. Create a 5x5 identity matrix**"
      ]
    },
    {
      "cell_type": "code",
      "execution_count": 3,
      "metadata": {
        "colab": {
          "base_uri": "https://localhost:8080/"
        },
        "id": "riLD0BJU8rmA",
        "outputId": "11d47cfd-1d49-426e-86a4-b7b9da10771f"
      },
      "outputs": [
        {
          "name": "stdout",
          "output_type": "stream",
          "text": [
            "Identity matrix with float numbers: \n",
            " [[1. 0. 0. 0. 0.]\n",
            " [0. 1. 0. 0. 0.]\n",
            " [0. 0. 1. 0. 0.]\n",
            " [0. 0. 0. 1. 0.]\n",
            " [0. 0. 0. 0. 1.]] \n",
            "\n",
            "Identity matrix with integer numbers: \n",
            " [[1 0 0 0 0]\n",
            " [0 1 0 0 0]\n",
            " [0 0 1 0 0]\n",
            " [0 0 0 1 0]\n",
            " [0 0 0 0 1]]\n"
          ]
        }
      ],
      "source": [
        "d_float = np.eye(5)\n",
        "d_int = np.eye(5, dtype = int)\n",
        "\n",
        "print(\"Identity matrix with float numbers: \\n\",d_float,\"\\n\")\n",
        "print(\"Identity matrix with integer numbers: \\n\",d_int)"
      ]
    },
    {
      "cell_type": "markdown",
      "metadata": {
        "id": "0RdBAZna9h-e"
      },
      "source": [
        "**Construct a 2D array with shape (3, 4), filled with the value 7.**"
      ]
    },
    {
      "cell_type": "code",
      "execution_count": 4,
      "metadata": {
        "colab": {
          "base_uri": "https://localhost:8080/"
        },
        "id": "igkM6Odh9jT7",
        "outputId": "57e799cd-bc20-4bb6-b660-8d85c953c541"
      },
      "outputs": [
        {
          "name": "stdout",
          "output_type": "stream",
          "text": [
            "The 3X4 2D array with value of 7 is: \n",
            " [[7 7 7 7]\n",
            " [7 7 7 7]\n",
            " [7 7 7 7]]\n",
            "Shape of the matrix is (3, 4)\n"
          ]
        }
      ],
      "source": [
        "e = np.array([[7,7,7,7],[7,7,7,7],[7,7,7,7]])\n",
        "print(\"The 3X4 2D array with value of 7 is: \\n\",e)\n",
        "print(\"Shape of the matrix is\",np.shape(e))"
      ]
    },
    {
      "cell_type": "markdown",
      "metadata": {
        "id": "gR8BVZ9p-b_Z"
      },
      "source": [
        "# **2. Array Indexing and Slicing**"
      ]
    },
    {
      "cell_type": "markdown",
      "metadata": {
        "id": "gYu-29Mk-dqC"
      },
      "source": [
        "**1. Extract the second row from the array [[1, 2, 3], [4, 5, 6], [7, 8, 9]]**"
      ]
    },
    {
      "cell_type": "code",
      "execution_count": 23,
      "metadata": {
        "colab": {
          "base_uri": "https://localhost:8080/"
        },
        "id": "5zpoPsY8-nzp",
        "outputId": "e66859c7-e1b7-42a0-d9c5-825ad7f0bc7b"
      },
      "outputs": [
        {
          "name": "stdout",
          "output_type": "stream",
          "text": [
            "The second row of the array is: \n",
            " [4 5 6]\n"
          ]
        }
      ],
      "source": [
        "f = np.array([[1, 2, 3], [4, 5, 6], [7, 8, 9]])\n",
        "print(\"The second row of the array is: \\n\",f[1])"
      ]
    },
    {
      "cell_type": "markdown",
      "metadata": {
        "id": "87FidP_k_AVe"
      },
      "source": [
        "**2. Slice and print all elements in the first two rows and the last column of a 3x3 matrix.**"
      ]
    },
    {
      "cell_type": "code",
      "execution_count": 24,
      "metadata": {
        "colab": {
          "base_uri": "https://localhost:8080/"
        },
        "id": "ta0Gs0TR_Luq",
        "outputId": "dba1d4c3-b434-4333-b22e-b368cc8c0680"
      },
      "outputs": [
        {
          "name": "stdout",
          "output_type": "stream",
          "text": [
            "The first two rows and last column of the array is: \n",
            " [3 6]\n"
          ]
        }
      ],
      "source": [
        "f = np.array([[1, 2, 3], [4, 5, 6], [7, 8, 9]])\n",
        "print(\"The first two rows and last column of the array is: \\n\",f[0:2,2])"
      ]
    },
    {
      "cell_type": "markdown",
      "metadata": {
        "id": "X7pWtcW7_LUO"
      },
      "source": [
        "**3. Reverse a 1D NumPy array: [5, 10, 15, 20] -> [20, 15, 10, 5].**"
      ]
    },
    {
      "cell_type": "code",
      "execution_count": 28,
      "metadata": {
        "colab": {
          "base_uri": "https://localhost:8080/"
        },
        "id": "p5FwwTC_Amcs",
        "outputId": "1474283a-22d9-4eca-9955-3489db805cb6"
      },
      "outputs": [
        {
          "name": "stdout",
          "output_type": "stream",
          "text": [
            "All elements reversed:  [20 15 10  5]\n"
          ]
        }
      ],
      "source": [
        "g = np.array([5, 10, 15, 20])\n",
        "g_reversed = g[::-1]\n",
        "print(\"All elements reversed: \",g_reversed)\n"
      ]
    },
    {
      "cell_type": "markdown",
      "metadata": {
        "id": "Za3g3UxABOI1"
      },
      "source": [
        "# **Array Operations**"
      ]
    },
    {
      "cell_type": "markdown",
      "metadata": {
        "id": "5kxKLY6ZBPlD"
      },
      "source": [
        "**1. Multiply all elements in an array by 2:\n",
        "Input: [1, 2, 3] -> [2, 4, 6].**"
      ]
    },
    {
      "cell_type": "code",
      "execution_count": 27,
      "metadata": {
        "colab": {
          "base_uri": "https://localhost:8080/"
        },
        "id": "kWAnnGT7BY3M",
        "outputId": "13da0edf-1505-47b4-945c-b1ee451377ef"
      },
      "outputs": [
        {
          "name": "stdout",
          "output_type": "stream",
          "text": [
            "All elements multiplied by 2:  [2 4 6]\n"
          ]
        }
      ],
      "source": [
        "h = np.array([1, 2, 3])\n",
        "h_2 = h*2\n",
        "print(\"All elements multiplied by 2: \",h_2)"
      ]
    },
    {
      "cell_type": "markdown",
      "metadata": {
        "id": "TpIKOICGB-oX"
      },
      "source": [
        "**2. Calculate the sum of each row in a 3x3 matrix.**"
      ]
    },
    {
      "cell_type": "code",
      "execution_count": 33,
      "metadata": {
        "colab": {
          "base_uri": "https://localhost:8080/"
        },
        "id": "Y3eFN_rYCAkX",
        "outputId": "17a96321-59d3-48e4-e35e-74a3b4b6c8fd"
      },
      "outputs": [
        {
          "name": "stdout",
          "output_type": "stream",
          "text": [
            "The matrix is: \n",
            " [[1 2 3]\n",
            " [4 5 6]\n",
            " [7 8 9]]\n",
            "The row wise sum of all elements is:  [ 6 15 24]\n"
          ]
        }
      ],
      "source": [
        "#Taking above f 3X3 matrix\n",
        "print(\"The matrix is: \\n\",f)\n",
        "i = f.sum(axis = 1)\n",
        "print(\"The row wise sum of all elements is: \",i)"
      ]
    },
    {
      "cell_type": "markdown",
      "metadata": {
        "id": "BnCc636TDIMm"
      },
      "source": [
        "**3. Find the mean and standard deviation of the array:\n",
        "[5, 10, 15, 20].**"
      ]
    },
    {
      "cell_type": "code",
      "execution_count": 36,
      "metadata": {
        "colab": {
          "base_uri": "https://localhost:8080/"
        },
        "id": "BpzLK109DKhg",
        "outputId": "7f186903-611f-4297-a360-e2a991c02c2e"
      },
      "outputs": [
        {
          "name": "stdout",
          "output_type": "stream",
          "text": [
            "Mean:  12.5\n",
            "Standard Deviation:  5.5901699437494745\n"
          ]
        }
      ],
      "source": [
        "j = ([5, 10, 15, 20])\n",
        "print(\"Mean: \",np.mean(j))\n",
        "print(\"Standard Deviation: \",np.std(j))"
      ]
    },
    {
      "cell_type": "markdown",
      "metadata": {
        "id": "ua1PPqrUTbYV"
      },
      "source": [
        "**4. Boolean Operations**"
      ]
    },
    {
      "cell_type": "markdown",
      "metadata": {
        "id": "x5eiToyUTncS"
      },
      "source": [
        "**1. Find all elements greater than 10 in the array: [5, 10, 15, 20] and Replace all values in an array greater than 10 with 0.**"
      ]
    },
    {
      "cell_type": "code",
      "execution_count": 48,
      "metadata": {
        "colab": {
          "base_uri": "https://localhost:8080/"
        },
        "id": "sdu16BwATe1Z",
        "outputId": "9a49d683-e563-42f0-8b0b-1ba9363280e8"
      },
      "outputs": [
        {
          "name": "stdout",
          "output_type": "stream",
          "text": [
            "All elements greater than 10:  [15 20]\n",
            "\n",
            " Numbers greater than 10 replaced with 0:  [ 5 10  0  0]\n"
          ]
        }
      ],
      "source": [
        "k = np.array([5,10,15,20])\n",
        "mask = (k > 10)\n",
        "print(\"All elements greater than 10: \",k[mask])\n",
        "\n",
        "# Replace all elements greater than 10 with zero\\\n",
        "k[mask] = 0\n",
        "print(\"\\n Numbers greater than 10 replaced with 0: \",k)"
      ]
    },
    {
      "cell_type": "markdown",
      "metadata": {
        "id": "lI4e0Qt2VUGT"
      },
      "source": [
        "# **5. Linear Algebra with NumPy**"
      ]
    },
    {
      "cell_type": "markdown",
      "metadata": {
        "id": "hCL8x5BkVb7j"
      },
      "source": [
        "**1. Perform matrix multiplication for:**"
      ]
    },
    {
      "cell_type": "code",
      "execution_count": 51,
      "metadata": {
        "colab": {
          "base_uri": "https://localhost:8080/"
        },
        "id": "wAZ4TClVVYBz",
        "outputId": "dd1a3367-0882-4a5c-bfd6-a2d380b36bb3"
      },
      "outputs": [
        {
          "data": {
            "text/plain": [
              "array([[19, 22],\n",
              "       [43, 50]])"
            ]
          },
          "execution_count": 51,
          "metadata": {},
          "output_type": "execute_result"
        }
      ],
      "source": [
        "A = np.array([[1, 2], [3, 4]])\n",
        "B = np.array([[5, 6], [7, 8]])\n",
        "A.dot(B)\n"
      ]
    },
    {
      "cell_type": "markdown",
      "metadata": {
        "id": "iI36Anc7WXdM"
      },
      "source": [
        "**2. Transpose of a Matrix and flatten**"
      ]
    },
    {
      "cell_type": "code",
      "execution_count": 60,
      "metadata": {
        "colab": {
          "base_uri": "https://localhost:8080/"
        },
        "id": "XmXC78aFWab-",
        "outputId": "ac26c1ab-0e24-484b-e979-13d3dcce3798"
      },
      "outputs": [
        {
          "name": "stdout",
          "output_type": "stream",
          "text": [
            "Transpose of given matris is: \n",
            " [[1 3 5]\n",
            " [2 4 6]]\n",
            "\n",
            " Flattened Matrix:  [1 2 3 4 5 6]\n"
          ]
        }
      ],
      "source": [
        "array = np.array([[1, 2], [3, 4], [5, 6]])\n",
        "print(\"Transpose of given matris is: \\n\",array.T)\n",
        "print(\"\\n Flattened Matrix: \",array.ravel())"
      ]
    },
    {
      "cell_type": "markdown",
      "metadata": {
        "id": "W0zV7r2iXVk-"
      },
      "source": [
        "**3. Reshape a array**"
      ]
    },
    {
      "cell_type": "code",
      "execution_count": 65,
      "metadata": {
        "colab": {
          "base_uri": "https://localhost:8080/"
        },
        "id": "DXZ6-qVlXZMk",
        "outputId": "99fbe34f-3f83-467b-ab89-61360625d5a6"
      },
      "outputs": [
        {
          "name": "stdout",
          "output_type": "stream",
          "text": [
            "1D array is:  [ 0  1  2  3  4  5  6  7  8  9 10 11]\n",
            "\n",
            " Reshaped array in 3X4 is: \n",
            " [[ 0  1  2  3]\n",
            " [ 4  5  6  7]\n",
            " [ 8  9 10 11]]\n"
          ]
        }
      ],
      "source": [
        "oned_array = np.arange(12)\n",
        "print(\"1D array is: \",oned_array)\n",
        "new_array = oned_array.reshape(3,4)\n",
        "print(\"\\n Reshaped array in 3X4 is: \\n\",new_array)"
      ]
    }
  ],
  "metadata": {
    "colab": {
      "provenance": []
    },
    "kernelspec": {
      "display_name": "Python 3",
      "name": "python3"
    },
    "language_info": {
      "codemirror_mode": {
        "name": "ipython",
        "version": 3
      },
      "file_extension": ".py",
      "mimetype": "text/x-python",
      "name": "python",
      "nbconvert_exporter": "python",
      "pygments_lexer": "ipython3",
      "version": "3.13.0"
    }
  },
  "nbformat": 4,
  "nbformat_minor": 0
}
